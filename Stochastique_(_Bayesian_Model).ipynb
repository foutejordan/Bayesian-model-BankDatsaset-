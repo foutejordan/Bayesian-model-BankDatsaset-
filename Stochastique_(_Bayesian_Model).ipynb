{
  "nbformat": 4,
  "nbformat_minor": 0,
  "metadata": {
    "colab": {
      "provenance": []
    },
    "kernelspec": {
      "name": "python3",
      "display_name": "Python 3"
    },
    "language_info": {
      "name": "python"
    },
    "widgets": {
      "application/vnd.jupyter.widget-state+json": {
        "16ac31c940af442d85cec3f511deb2f3": {
          "model_module": "@jupyter-widgets/controls",
          "model_name": "HBoxModel",
          "model_module_version": "1.5.0",
          "state": {
            "_dom_classes": [],
            "_model_module": "@jupyter-widgets/controls",
            "_model_module_version": "1.5.0",
            "_model_name": "HBoxModel",
            "_view_count": null,
            "_view_module": "@jupyter-widgets/controls",
            "_view_module_version": "1.5.0",
            "_view_name": "HBoxView",
            "box_style": "",
            "children": [
              "IPY_MODEL_6bca5a998f5743fea80a1bc200469c5e",
              "IPY_MODEL_2ee16b0aa4964f79940b2af94da11988",
              "IPY_MODEL_d4d20ea7d3094ff2b78ae0cf24e13507"
            ],
            "layout": "IPY_MODEL_9d5d594820214d578a2ab98a091b1dc0"
          }
        },
        "6bca5a998f5743fea80a1bc200469c5e": {
          "model_module": "@jupyter-widgets/controls",
          "model_name": "HTMLModel",
          "model_module_version": "1.5.0",
          "state": {
            "_dom_classes": [],
            "_model_module": "@jupyter-widgets/controls",
            "_model_module_version": "1.5.0",
            "_model_name": "HTMLModel",
            "_view_count": null,
            "_view_module": "@jupyter-widgets/controls",
            "_view_module_version": "1.5.0",
            "_view_name": "HTMLView",
            "description": "",
            "description_tooltip": null,
            "layout": "IPY_MODEL_79f8e1817be34f43bb57e3aa83807b12",
            "placeholder": "​",
            "style": "IPY_MODEL_b32ddd24fb2f4d40aded9b97dbe108b6",
            "value": "Generating for node: BankLoan: 100%"
          }
        },
        "2ee16b0aa4964f79940b2af94da11988": {
          "model_module": "@jupyter-widgets/controls",
          "model_name": "FloatProgressModel",
          "model_module_version": "1.5.0",
          "state": {
            "_dom_classes": [],
            "_model_module": "@jupyter-widgets/controls",
            "_model_module_version": "1.5.0",
            "_model_name": "FloatProgressModel",
            "_view_count": null,
            "_view_module": "@jupyter-widgets/controls",
            "_view_module_version": "1.5.0",
            "_view_name": "ProgressView",
            "bar_style": "success",
            "description": "",
            "description_tooltip": null,
            "layout": "IPY_MODEL_c0327776e2f645a3bbf13815654461d5",
            "max": 8,
            "min": 0,
            "orientation": "horizontal",
            "style": "IPY_MODEL_d122a902b8f14ccbb515a8af0820d243",
            "value": 8
          }
        },
        "d4d20ea7d3094ff2b78ae0cf24e13507": {
          "model_module": "@jupyter-widgets/controls",
          "model_name": "HTMLModel",
          "model_module_version": "1.5.0",
          "state": {
            "_dom_classes": [],
            "_model_module": "@jupyter-widgets/controls",
            "_model_module_version": "1.5.0",
            "_model_name": "HTMLModel",
            "_view_count": null,
            "_view_module": "@jupyter-widgets/controls",
            "_view_module_version": "1.5.0",
            "_view_name": "HTMLView",
            "description": "",
            "description_tooltip": null,
            "layout": "IPY_MODEL_272ac242fa754d8faff8940846a238b8",
            "placeholder": "​",
            "style": "IPY_MODEL_eea0a4912a3443d49a91db3d33a0a4b2",
            "value": " 8/8 [00:00&lt;00:00, 155.75it/s]"
          }
        },
        "9d5d594820214d578a2ab98a091b1dc0": {
          "model_module": "@jupyter-widgets/base",
          "model_name": "LayoutModel",
          "model_module_version": "1.2.0",
          "state": {
            "_model_module": "@jupyter-widgets/base",
            "_model_module_version": "1.2.0",
            "_model_name": "LayoutModel",
            "_view_count": null,
            "_view_module": "@jupyter-widgets/base",
            "_view_module_version": "1.2.0",
            "_view_name": "LayoutView",
            "align_content": null,
            "align_items": null,
            "align_self": null,
            "border": null,
            "bottom": null,
            "display": null,
            "flex": null,
            "flex_flow": null,
            "grid_area": null,
            "grid_auto_columns": null,
            "grid_auto_flow": null,
            "grid_auto_rows": null,
            "grid_column": null,
            "grid_gap": null,
            "grid_row": null,
            "grid_template_areas": null,
            "grid_template_columns": null,
            "grid_template_rows": null,
            "height": null,
            "justify_content": null,
            "justify_items": null,
            "left": null,
            "margin": null,
            "max_height": null,
            "max_width": null,
            "min_height": null,
            "min_width": null,
            "object_fit": null,
            "object_position": null,
            "order": null,
            "overflow": null,
            "overflow_x": null,
            "overflow_y": null,
            "padding": null,
            "right": null,
            "top": null,
            "visibility": null,
            "width": null
          }
        },
        "79f8e1817be34f43bb57e3aa83807b12": {
          "model_module": "@jupyter-widgets/base",
          "model_name": "LayoutModel",
          "model_module_version": "1.2.0",
          "state": {
            "_model_module": "@jupyter-widgets/base",
            "_model_module_version": "1.2.0",
            "_model_name": "LayoutModel",
            "_view_count": null,
            "_view_module": "@jupyter-widgets/base",
            "_view_module_version": "1.2.0",
            "_view_name": "LayoutView",
            "align_content": null,
            "align_items": null,
            "align_self": null,
            "border": null,
            "bottom": null,
            "display": null,
            "flex": null,
            "flex_flow": null,
            "grid_area": null,
            "grid_auto_columns": null,
            "grid_auto_flow": null,
            "grid_auto_rows": null,
            "grid_column": null,
            "grid_gap": null,
            "grid_row": null,
            "grid_template_areas": null,
            "grid_template_columns": null,
            "grid_template_rows": null,
            "height": null,
            "justify_content": null,
            "justify_items": null,
            "left": null,
            "margin": null,
            "max_height": null,
            "max_width": null,
            "min_height": null,
            "min_width": null,
            "object_fit": null,
            "object_position": null,
            "order": null,
            "overflow": null,
            "overflow_x": null,
            "overflow_y": null,
            "padding": null,
            "right": null,
            "top": null,
            "visibility": null,
            "width": null
          }
        },
        "b32ddd24fb2f4d40aded9b97dbe108b6": {
          "model_module": "@jupyter-widgets/controls",
          "model_name": "DescriptionStyleModel",
          "model_module_version": "1.5.0",
          "state": {
            "_model_module": "@jupyter-widgets/controls",
            "_model_module_version": "1.5.0",
            "_model_name": "DescriptionStyleModel",
            "_view_count": null,
            "_view_module": "@jupyter-widgets/base",
            "_view_module_version": "1.2.0",
            "_view_name": "StyleView",
            "description_width": ""
          }
        },
        "c0327776e2f645a3bbf13815654461d5": {
          "model_module": "@jupyter-widgets/base",
          "model_name": "LayoutModel",
          "model_module_version": "1.2.0",
          "state": {
            "_model_module": "@jupyter-widgets/base",
            "_model_module_version": "1.2.0",
            "_model_name": "LayoutModel",
            "_view_count": null,
            "_view_module": "@jupyter-widgets/base",
            "_view_module_version": "1.2.0",
            "_view_name": "LayoutView",
            "align_content": null,
            "align_items": null,
            "align_self": null,
            "border": null,
            "bottom": null,
            "display": null,
            "flex": null,
            "flex_flow": null,
            "grid_area": null,
            "grid_auto_columns": null,
            "grid_auto_flow": null,
            "grid_auto_rows": null,
            "grid_column": null,
            "grid_gap": null,
            "grid_row": null,
            "grid_template_areas": null,
            "grid_template_columns": null,
            "grid_template_rows": null,
            "height": null,
            "justify_content": null,
            "justify_items": null,
            "left": null,
            "margin": null,
            "max_height": null,
            "max_width": null,
            "min_height": null,
            "min_width": null,
            "object_fit": null,
            "object_position": null,
            "order": null,
            "overflow": null,
            "overflow_x": null,
            "overflow_y": null,
            "padding": null,
            "right": null,
            "top": null,
            "visibility": null,
            "width": null
          }
        },
        "d122a902b8f14ccbb515a8af0820d243": {
          "model_module": "@jupyter-widgets/controls",
          "model_name": "ProgressStyleModel",
          "model_module_version": "1.5.0",
          "state": {
            "_model_module": "@jupyter-widgets/controls",
            "_model_module_version": "1.5.0",
            "_model_name": "ProgressStyleModel",
            "_view_count": null,
            "_view_module": "@jupyter-widgets/base",
            "_view_module_version": "1.2.0",
            "_view_name": "StyleView",
            "bar_color": null,
            "description_width": ""
          }
        },
        "272ac242fa754d8faff8940846a238b8": {
          "model_module": "@jupyter-widgets/base",
          "model_name": "LayoutModel",
          "model_module_version": "1.2.0",
          "state": {
            "_model_module": "@jupyter-widgets/base",
            "_model_module_version": "1.2.0",
            "_model_name": "LayoutModel",
            "_view_count": null,
            "_view_module": "@jupyter-widgets/base",
            "_view_module_version": "1.2.0",
            "_view_name": "LayoutView",
            "align_content": null,
            "align_items": null,
            "align_self": null,
            "border": null,
            "bottom": null,
            "display": null,
            "flex": null,
            "flex_flow": null,
            "grid_area": null,
            "grid_auto_columns": null,
            "grid_auto_flow": null,
            "grid_auto_rows": null,
            "grid_column": null,
            "grid_gap": null,
            "grid_row": null,
            "grid_template_areas": null,
            "grid_template_columns": null,
            "grid_template_rows": null,
            "height": null,
            "justify_content": null,
            "justify_items": null,
            "left": null,
            "margin": null,
            "max_height": null,
            "max_width": null,
            "min_height": null,
            "min_width": null,
            "object_fit": null,
            "object_position": null,
            "order": null,
            "overflow": null,
            "overflow_x": null,
            "overflow_y": null,
            "padding": null,
            "right": null,
            "top": null,
            "visibility": null,
            "width": null
          }
        },
        "eea0a4912a3443d49a91db3d33a0a4b2": {
          "model_module": "@jupyter-widgets/controls",
          "model_name": "DescriptionStyleModel",
          "model_module_version": "1.5.0",
          "state": {
            "_model_module": "@jupyter-widgets/controls",
            "_model_module_version": "1.5.0",
            "_model_name": "DescriptionStyleModel",
            "_view_count": null,
            "_view_module": "@jupyter-widgets/base",
            "_view_module_version": "1.2.0",
            "_view_name": "StyleView",
            "description_width": ""
          }
        }
      }
    }
  },
  "cells": [
    {
      "cell_type": "code",
      "execution_count": null,
      "metadata": {
        "colab": {
          "base_uri": "https://localhost:8080/"
        },
        "id": "RQM7gB21Non_",
        "outputId": "2eefe283-2287-449b-c20e-a0f99932249e"
      },
      "outputs": [
        {
          "output_type": "stream",
          "name": "stdout",
          "text": [
            "Looking in indexes: https://pypi.org/simple, https://us-python.pkg.dev/colab-wheels/public/simple/\n",
            "Collecting pgmpy\n",
            "  Downloading pgmpy-0.1.21-py3-none-any.whl (1.9 MB)\n",
            "\u001b[2K     \u001b[90m━━━━━━━━━━━━━━━━━━━━━━━━━━━━━━━━━━━━━━━━\u001b[0m \u001b[32m1.9/1.9 MB\u001b[0m \u001b[31m36.1 MB/s\u001b[0m eta \u001b[36m0:00:00\u001b[0m\n",
            "\u001b[?25hRequirement already satisfied: networkx in /usr/local/lib/python3.9/dist-packages (from pgmpy) (3.0)\n",
            "Requirement already satisfied: pyparsing in /usr/local/lib/python3.9/dist-packages (from pgmpy) (3.0.9)\n",
            "Requirement already satisfied: scikit-learn in /usr/local/lib/python3.9/dist-packages (from pgmpy) (1.2.2)\n",
            "Requirement already satisfied: scipy in /usr/local/lib/python3.9/dist-packages (from pgmpy) (1.10.1)\n",
            "Requirement already satisfied: numpy in /usr/local/lib/python3.9/dist-packages (from pgmpy) (1.22.4)\n",
            "Requirement already satisfied: tqdm in /usr/local/lib/python3.9/dist-packages (from pgmpy) (4.65.0)\n",
            "Requirement already satisfied: joblib in /usr/local/lib/python3.9/dist-packages (from pgmpy) (1.1.1)\n",
            "Requirement already satisfied: torch in /usr/local/lib/python3.9/dist-packages (from pgmpy) (1.13.1+cu116)\n",
            "Requirement already satisfied: statsmodels in /usr/local/lib/python3.9/dist-packages (from pgmpy) (0.13.5)\n",
            "Requirement already satisfied: pandas in /usr/local/lib/python3.9/dist-packages (from pgmpy) (1.4.4)\n",
            "Requirement already satisfied: opt-einsum in /usr/local/lib/python3.9/dist-packages (from pgmpy) (3.3.0)\n",
            "Requirement already satisfied: pytz>=2020.1 in /usr/local/lib/python3.9/dist-packages (from pandas->pgmpy) (2022.7.1)\n",
            "Requirement already satisfied: python-dateutil>=2.8.1 in /usr/local/lib/python3.9/dist-packages (from pandas->pgmpy) (2.8.2)\n",
            "Requirement already satisfied: threadpoolctl>=2.0.0 in /usr/local/lib/python3.9/dist-packages (from scikit-learn->pgmpy) (3.1.0)\n",
            "Requirement already satisfied: patsy>=0.5.2 in /usr/local/lib/python3.9/dist-packages (from statsmodels->pgmpy) (0.5.3)\n",
            "Requirement already satisfied: packaging>=21.3 in /usr/local/lib/python3.9/dist-packages (from statsmodels->pgmpy) (23.0)\n",
            "Requirement already satisfied: typing-extensions in /usr/local/lib/python3.9/dist-packages (from torch->pgmpy) (4.5.0)\n",
            "Requirement already satisfied: six in /usr/local/lib/python3.9/dist-packages (from patsy>=0.5.2->statsmodels->pgmpy) (1.15.0)\n",
            "Installing collected packages: pgmpy\n",
            "Successfully installed pgmpy-0.1.21\n"
          ]
        }
      ],
      "source": [
        "%pip install pgmpy"
      ]
    },
    {
      "cell_type": "code",
      "source": [
        "from pgmpy.models import BayesianModel\n",
        "from pgmpy.factors.discrete import TabularCPD"
      ],
      "metadata": {
        "id": "snVw66aKOk5b"
      },
      "execution_count": null,
      "outputs": []
    },
    {
      "cell_type": "code",
      "source": [
        "# Defining the model structure. We can define the network by just passing a list of edges.\n",
        "model = BayesianModel(\n",
        "    [\n",
        "        ('DebtIncomeRatio', 'PaymentHistory'),\n",
        "        ('PaymentHistory', 'Age'),\n",
        "        ('PaymentHistory', 'Reliability'),\n",
        "        ('Age', 'Reliability'),\n",
        "        ('Income','Assets'), \n",
        "        ('Income', 'FutureIncome'),\n",
        "        ('Assets', 'FutureIncome'),\n",
        "        ('DebtIncomeRatio', 'BankLoan'),\n",
        "        ('Reliability', 'BankLoan'),\n",
        "        ('FutureIncome', 'BankLoan')\n",
        "    ]\n",
        ")"
      ],
      "metadata": {
        "colab": {
          "base_uri": "https://localhost:8080/"
        },
        "id": "9TPyWpA8O6za",
        "outputId": "52b045ca-0a9c-4bba-adee-9a7dcc387547"
      },
      "execution_count": null,
      "outputs": [
        {
          "output_type": "stream",
          "name": "stderr",
          "text": [
            "/usr/local/lib/python3.9/dist-packages/pgmpy/models/BayesianModel.py:8: FutureWarning: BayesianModel has been renamed to BayesianNetwork. Please use BayesianNetwork class, BayesianModel will be removed in future.\n",
            "  warnings.warn(\n"
          ]
        }
      ]
    },
    {
      "cell_type": "code",
      "source": [
        "cpd_DebtIncomeRatio = TabularCPD(variable='DebtIncomeRatio', variable_card=2, values=[[0.5], [0.5]], state_names={'DebtIncomeRatio': ['Low', 'High']})\n",
        "cpd_Income = TabularCPD(variable='Income', variable_card=3, values=[[0.333], [0.333], [0.334]], state_names={'Income': ['High', 'Medium', 'Low']})\n",
        "\n",
        "cpd_Reliability = TabularCPD(variable='Reliability', variable_card=2,\n",
        "                      values=[[0.7, 0.8, 0.9, 0.6, 0.7, 0.8, 0.5, 0.6, 0.7],\n",
        "                              [0.3, 0.2, 0.1, 0.4, 0.3, 0.2, 0.5, 0.4, 0.3],],\n",
        "                      evidence=['PaymentHistory','Age'],\n",
        "                      evidence_card=[3,3],\n",
        "                      state_names={'Reliability': ['Reliable', 'Unreliable'],\n",
        "                                   'PaymentHistory': ['Excellent', 'Acceptable', 'Unacceptable'],\n",
        "                                   'Age': ['Between16and25', 'Between26and64', 'Over65']})\n",
        "\n",
        "cpd_Age = TabularCPD(variable='Age', variable_card=3, \n",
        "                      values=[[0.1, 0.333, 0.6],\n",
        "                              [0.3, 0.333, 0.3],\n",
        "                              [0.6, 0.334, 0.1]],\n",
        "                      evidence=['PaymentHistory'],\n",
        "                      evidence_card=[3],\n",
        "                      state_names={'Age': ['Between16and25', 'Between26and64', 'Over65'],\n",
        "                                   'PaymentHistory': ['Excellent', 'Acceptable', 'Unacceptable']})\n",
        "\n",
        "\n",
        "cpd_PaymentHistory = TabularCPD(variable='PaymentHistory', variable_card=3, \n",
        "                      values=[[0.6, 0.1],\n",
        "                              [0.3, 0.3],\n",
        "                              [0.1, 0.6]],\n",
        "                      evidence=['DebtIncomeRatio'],\n",
        "                      evidence_card=[2],\n",
        "                      state_names={'PaymentHistory': ['Excellent', 'Acceptable', 'Unacceptable'],\n",
        "                                   'DebtIncomeRatio': ['Low', 'High']})\n",
        "\n",
        "cpd_BankLoan = TabularCPD(variable='BankLoan', variable_card=2, \n",
        "                      values=[[0.8, 0.6, 0.6, 0.4, 0.6, 0.4, 0.4, 0.2],\n",
        "                              [0.2, 0.4, 0.4, 0.6, 0.4, 0.6, 0.6, 0.8]],\n",
        "                      evidence=['DebtIncomeRatio','Reliability','FutureIncome'],\n",
        "                      evidence_card=[2,2,2],\n",
        "                      state_names={'BankLoan': ['Positive', 'Negative'],\n",
        "                                   'DebtIncomeRatio': ['Low', 'High'],\n",
        "                                   'Reliability': ['Reliable', 'Unreliable'],\n",
        "                                   'FutureIncome': ['Promising', 'Not_promising']})\n",
        "\n",
        "cpd_Assets = TabularCPD(variable='Assets', variable_card=3, \n",
        "                        values=[[0.6, 0.3, 0.1],\n",
        "                                [0.3, 0.6, 0.3],\n",
        "                                [0.1, 0.1, 0.6]],\n",
        "                        evidence=['Income'],\n",
        "                        evidence_card=[3],\n",
        "                        state_names={'Assets': ['High', 'Medium', 'Low'],\n",
        "                                     'Income': ['High', 'Medium', 'Low']})\n",
        "\n",
        "cpd_FutureIncome = TabularCPD(variable='FutureIncome', variable_card=2,\n",
        "                              values=[[0.8, 0.6, 0.5, 0.7, 0.6, 0.4, 0.6, 0.4, 0.2],\n",
        "                                      [0.2, 0.4, 0.5, 0.3, 0.4, 0.6, 0.4, 0.6, 0.8]],\n",
        "                              evidence=['Assets','Income'],\n",
        "                              evidence_card=[3,3],\n",
        "                              state_names={'FutureIncome': ['Promising', 'Not_promising'],\n",
        "                                          'Assets': ['High', 'Medium', 'Low'],\n",
        "                                          'Income': ['High', 'Medium', 'Low']})\n",
        "# check_model checks for the network structure and CPDs and verifies that the CPDs are correctly \n",
        "# defined and sum to 1.\n",
        "model.add_cpds(cpd_DebtIncomeRatio, cpd_Income, cpd_PaymentHistory, cpd_Age, cpd_Reliability, cpd_Assets, cpd_FutureIncome, cpd_BankLoan)\n",
        "model.check_model()"
      ],
      "metadata": {
        "colab": {
          "base_uri": "https://localhost:8080/"
        },
        "id": "WPrZWcxNPo_y",
        "outputId": "1119bbf3-1470-410b-a843-6a1293da1c9f"
      },
      "execution_count": null,
      "outputs": [
        {
          "output_type": "execute_result",
          "data": {
            "text/plain": [
              "True"
            ]
          },
          "metadata": {},
          "execution_count": 12
        }
      ]
    },
    {
      "cell_type": "code",
      "source": [
        "# Independance entre les variables\n",
        "\n",
        "model.local_independencies(['DebtIncomeRatio', 'PaymentHistory', 'Age', 'Reliability','Income','Assets', 'FutureIncome','DebtIncomeRatio', 'BankLoan'])"
      ],
      "metadata": {
        "colab": {
          "base_uri": "https://localhost:8080/"
        },
        "id": "JF9f2LpyQhku",
        "outputId": "ff1a1466-3b82-49a4-fdb5-2ed88fd2f54c"
      },
      "execution_count": null,
      "outputs": [
        {
          "output_type": "execute_result",
          "data": {
            "text/plain": [
              "(DebtIncomeRatio ⟂ Assets, Income, FutureIncome)\n",
              "(PaymentHistory ⟂ Assets, Income, FutureIncome | DebtIncomeRatio)\n",
              "(Age ⟂ FutureIncome, DebtIncomeRatio, Assets, Income | PaymentHistory)\n",
              "(Reliability ⟂ FutureIncome, DebtIncomeRatio, Assets, Income | PaymentHistory, Age)\n",
              "(Income ⟂ PaymentHistory, DebtIncomeRatio, Age, Reliability)\n",
              "(Assets ⟂ PaymentHistory, DebtIncomeRatio, Age, Reliability | Income)\n",
              "(FutureIncome ⟂ PaymentHistory, DebtIncomeRatio, Age, Reliability | Assets, Income)\n",
              "(DebtIncomeRatio ⟂ Assets, Income, FutureIncome)\n",
              "(BankLoan ⟂ PaymentHistory, Assets, Age, Income | DebtIncomeRatio, Reliability, FutureIncome)"
            ]
          },
          "metadata": {},
          "execution_count": 14
        }
      ]
    },
    {
      "cell_type": "code",
      "source": [
        "# Variable independante de Income\n",
        "model.local_independencies('Income')"
      ],
      "metadata": {
        "colab": {
          "base_uri": "https://localhost:8080/"
        },
        "id": "YUCbtJdMn08x",
        "outputId": "ca080634-6ef6-411a-9110-7f2b04e1de40"
      },
      "execution_count": null,
      "outputs": [
        {
          "output_type": "execute_result",
          "data": {
            "text/plain": [
              "(Income ⟂ PaymentHistory, DebtIncomeRatio, Age, Reliability)"
            ]
          },
          "metadata": {},
          "execution_count": 15
        }
      ]
    },
    {
      "cell_type": "code",
      "source": [
        "# Apprentissage par maximum de vraisemblance\n",
        "import pandas as pd \n",
        "data = pd.read_csv('./50000-cases.csv')\n",
        "data.head()"
      ],
      "metadata": {
        "colab": {
          "base_uri": "https://localhost:8080/",
          "height": 206
        },
        "id": "bZhBGZ-rpNAu",
        "outputId": "71ac8faa-6dcb-4f2b-edd2-d8d91874c061"
      },
      "execution_count": null,
      "outputs": [
        {
          "output_type": "execute_result",
          "data": {
            "text/plain": [
              "  DebtIncomeRatio  Income PaymentHistory  Assets             Age  \\\n",
              "0             Low  Medium      Excellent  Medium  Between26and64   \n",
              "1             Low    High      Excellent    High          Over65   \n",
              "2             Low  Medium   Unacceptable    High  Between26and64   \n",
              "3            High  Medium   Unacceptable     Low          Over65   \n",
              "4            High  Medium     Acceptable  Medium          Over65   \n",
              "\n",
              "    FutureIncome Reliability  BankLoan  \n",
              "0      Promising    Reliable  Negative  \n",
              "1      Promising    Reliable  Positive  \n",
              "2      Promising  Unreliable  Positive  \n",
              "3  Not_promising    Reliable  Positive  \n",
              "4      Promising  Unreliable  Negative  "
            ],
            "text/html": [
              "\n",
              "  <div id=\"df-99861735-e336-49f2-b60f-e420eaff670a\">\n",
              "    <div class=\"colab-df-container\">\n",
              "      <div>\n",
              "<style scoped>\n",
              "    .dataframe tbody tr th:only-of-type {\n",
              "        vertical-align: middle;\n",
              "    }\n",
              "\n",
              "    .dataframe tbody tr th {\n",
              "        vertical-align: top;\n",
              "    }\n",
              "\n",
              "    .dataframe thead th {\n",
              "        text-align: right;\n",
              "    }\n",
              "</style>\n",
              "<table border=\"1\" class=\"dataframe\">\n",
              "  <thead>\n",
              "    <tr style=\"text-align: right;\">\n",
              "      <th></th>\n",
              "      <th>DebtIncomeRatio</th>\n",
              "      <th>Income</th>\n",
              "      <th>PaymentHistory</th>\n",
              "      <th>Assets</th>\n",
              "      <th>Age</th>\n",
              "      <th>FutureIncome</th>\n",
              "      <th>Reliability</th>\n",
              "      <th>BankLoan</th>\n",
              "    </tr>\n",
              "  </thead>\n",
              "  <tbody>\n",
              "    <tr>\n",
              "      <th>0</th>\n",
              "      <td>Low</td>\n",
              "      <td>Medium</td>\n",
              "      <td>Excellent</td>\n",
              "      <td>Medium</td>\n",
              "      <td>Between26and64</td>\n",
              "      <td>Promising</td>\n",
              "      <td>Reliable</td>\n",
              "      <td>Negative</td>\n",
              "    </tr>\n",
              "    <tr>\n",
              "      <th>1</th>\n",
              "      <td>Low</td>\n",
              "      <td>High</td>\n",
              "      <td>Excellent</td>\n",
              "      <td>High</td>\n",
              "      <td>Over65</td>\n",
              "      <td>Promising</td>\n",
              "      <td>Reliable</td>\n",
              "      <td>Positive</td>\n",
              "    </tr>\n",
              "    <tr>\n",
              "      <th>2</th>\n",
              "      <td>Low</td>\n",
              "      <td>Medium</td>\n",
              "      <td>Unacceptable</td>\n",
              "      <td>High</td>\n",
              "      <td>Between26and64</td>\n",
              "      <td>Promising</td>\n",
              "      <td>Unreliable</td>\n",
              "      <td>Positive</td>\n",
              "    </tr>\n",
              "    <tr>\n",
              "      <th>3</th>\n",
              "      <td>High</td>\n",
              "      <td>Medium</td>\n",
              "      <td>Unacceptable</td>\n",
              "      <td>Low</td>\n",
              "      <td>Over65</td>\n",
              "      <td>Not_promising</td>\n",
              "      <td>Reliable</td>\n",
              "      <td>Positive</td>\n",
              "    </tr>\n",
              "    <tr>\n",
              "      <th>4</th>\n",
              "      <td>High</td>\n",
              "      <td>Medium</td>\n",
              "      <td>Acceptable</td>\n",
              "      <td>Medium</td>\n",
              "      <td>Over65</td>\n",
              "      <td>Promising</td>\n",
              "      <td>Unreliable</td>\n",
              "      <td>Negative</td>\n",
              "    </tr>\n",
              "  </tbody>\n",
              "</table>\n",
              "</div>\n",
              "      <button class=\"colab-df-convert\" onclick=\"convertToInteractive('df-99861735-e336-49f2-b60f-e420eaff670a')\"\n",
              "              title=\"Convert this dataframe to an interactive table.\"\n",
              "              style=\"display:none;\">\n",
              "        \n",
              "  <svg xmlns=\"http://www.w3.org/2000/svg\" height=\"24px\"viewBox=\"0 0 24 24\"\n",
              "       width=\"24px\">\n",
              "    <path d=\"M0 0h24v24H0V0z\" fill=\"none\"/>\n",
              "    <path d=\"M18.56 5.44l.94 2.06.94-2.06 2.06-.94-2.06-.94-.94-2.06-.94 2.06-2.06.94zm-11 1L8.5 8.5l.94-2.06 2.06-.94-2.06-.94L8.5 2.5l-.94 2.06-2.06.94zm10 10l.94 2.06.94-2.06 2.06-.94-2.06-.94-.94-2.06-.94 2.06-2.06.94z\"/><path d=\"M17.41 7.96l-1.37-1.37c-.4-.4-.92-.59-1.43-.59-.52 0-1.04.2-1.43.59L10.3 9.45l-7.72 7.72c-.78.78-.78 2.05 0 2.83L4 21.41c.39.39.9.59 1.41.59.51 0 1.02-.2 1.41-.59l7.78-7.78 2.81-2.81c.8-.78.8-2.07 0-2.86zM5.41 20L4 18.59l7.72-7.72 1.47 1.35L5.41 20z\"/>\n",
              "  </svg>\n",
              "      </button>\n",
              "      \n",
              "  <style>\n",
              "    .colab-df-container {\n",
              "      display:flex;\n",
              "      flex-wrap:wrap;\n",
              "      gap: 12px;\n",
              "    }\n",
              "\n",
              "    .colab-df-convert {\n",
              "      background-color: #E8F0FE;\n",
              "      border: none;\n",
              "      border-radius: 50%;\n",
              "      cursor: pointer;\n",
              "      display: none;\n",
              "      fill: #1967D2;\n",
              "      height: 32px;\n",
              "      padding: 0 0 0 0;\n",
              "      width: 32px;\n",
              "    }\n",
              "\n",
              "    .colab-df-convert:hover {\n",
              "      background-color: #E2EBFA;\n",
              "      box-shadow: 0px 1px 2px rgba(60, 64, 67, 0.3), 0px 1px 3px 1px rgba(60, 64, 67, 0.15);\n",
              "      fill: #174EA6;\n",
              "    }\n",
              "\n",
              "    [theme=dark] .colab-df-convert {\n",
              "      background-color: #3B4455;\n",
              "      fill: #D2E3FC;\n",
              "    }\n",
              "\n",
              "    [theme=dark] .colab-df-convert:hover {\n",
              "      background-color: #434B5C;\n",
              "      box-shadow: 0px 1px 3px 1px rgba(0, 0, 0, 0.15);\n",
              "      filter: drop-shadow(0px 1px 2px rgba(0, 0, 0, 0.3));\n",
              "      fill: #FFFFFF;\n",
              "    }\n",
              "  </style>\n",
              "\n",
              "      <script>\n",
              "        const buttonEl =\n",
              "          document.querySelector('#df-99861735-e336-49f2-b60f-e420eaff670a button.colab-df-convert');\n",
              "        buttonEl.style.display =\n",
              "          google.colab.kernel.accessAllowed ? 'block' : 'none';\n",
              "\n",
              "        async function convertToInteractive(key) {\n",
              "          const element = document.querySelector('#df-99861735-e336-49f2-b60f-e420eaff670a');\n",
              "          const dataTable =\n",
              "            await google.colab.kernel.invokeFunction('convertToInteractive',\n",
              "                                                     [key], {});\n",
              "          if (!dataTable) return;\n",
              "\n",
              "          const docLinkHtml = 'Like what you see? Visit the ' +\n",
              "            '<a target=\"_blank\" href=https://colab.research.google.com/notebooks/data_table.ipynb>data table notebook</a>'\n",
              "            + ' to learn more about interactive tables.';\n",
              "          element.innerHTML = '';\n",
              "          dataTable['output_type'] = 'display_data';\n",
              "          await google.colab.output.renderOutput(dataTable, element);\n",
              "          const docLink = document.createElement('div');\n",
              "          docLink.innerHTML = docLinkHtml;\n",
              "          element.appendChild(docLink);\n",
              "        }\n",
              "      </script>\n",
              "    </div>\n",
              "  </div>\n",
              "  "
            ]
          },
          "metadata": {},
          "execution_count": 19
        }
      ]
    },
    {
      "cell_type": "code",
      "source": [
        "from pgmpy.models import BayesianNetwork\n",
        "\n",
        "model_struct = BayesianNetwork(ebunch=model.edges())\n",
        "model_struct.nodes()"
      ],
      "metadata": {
        "colab": {
          "base_uri": "https://localhost:8080/"
        },
        "id": "73XA34LUpyut",
        "outputId": "9ad7a4cd-cb21-4c90-e199-e9d1be0cda75"
      },
      "execution_count": null,
      "outputs": [
        {
          "output_type": "execute_result",
          "data": {
            "text/plain": [
              "NodeView(('DebtIncomeRatio', 'PaymentHistory', 'BankLoan', 'Age', 'Reliability', 'Income', 'Assets', 'FutureIncome'))"
            ]
          },
          "metadata": {},
          "execution_count": 20
        }
      ]
    },
    {
      "cell_type": "code",
      "source": [
        "from pgmpy.estimators.MLE import MaximumLikelihoodEstimator\n",
        "from pgmpy.estimators import BayesianEstimator\n",
        "\n",
        "model_struct.fit(data=data, estimator=MaximumLikelihoodEstimator)\n",
        "print(model_struct.get_cpds(\"PaymentHistory\"))\n",
        "\n",
        "model_struct.fit(\n",
        "    data=data,\n",
        "    estimator=BayesianEstimator,\n",
        "    prior_type=\"BDeu\",\n",
        "    equivalent_sample_size=1000,\n",
        ")\n",
        "print(model_struct.get_cpds(\"PaymentHistory\"))"
      ],
      "metadata": {
        "colab": {
          "base_uri": "https://localhost:8080/"
        },
        "id": "VC0knlU8qNQy",
        "outputId": "fa3d536e-d97e-4e1d-a6d5-23724d98f2b9"
      },
      "execution_count": null,
      "outputs": [
        {
          "output_type": "stream",
          "name": "stdout",
          "text": [
            "+------------------------------+-----------------------+----------------------+\n",
            "| DebtIncomeRatio              | DebtIncomeRatio(High) | DebtIncomeRatio(Low) |\n",
            "+------------------------------+-----------------------+----------------------+\n",
            "| PaymentHistory(Acceptable)   | 0.2984163708165463    | 0.2973406602222133   |\n",
            "+------------------------------+-----------------------+----------------------+\n",
            "| PaymentHistory(Excellent)    | 0.0989668514898879    | 0.6018611367373952   |\n",
            "+------------------------------+-----------------------+----------------------+\n",
            "| PaymentHistory(Unacceptable) | 0.6026167776935658    | 0.10079820304039148  |\n",
            "+------------------------------+-----------------------+----------------------+\n",
            "+------------------------------+-----------------------+----------------------+\n",
            "| DebtIncomeRatio              | DebtIncomeRatio(High) | DebtIncomeRatio(Low) |\n",
            "+------------------------------+-----------------------+----------------------+\n",
            "| PaymentHistory(Acceptable)   | 0.2990991695673146    | 0.29804831373782653  |\n",
            "+------------------------------+-----------------------+----------------------+\n",
            "| PaymentHistory(Excellent)    | 0.10354987158929432   | 0.5965815998846552   |\n",
            "+------------------------------+-----------------------+----------------------+\n",
            "| PaymentHistory(Unacceptable) | 0.5973509588433911    | 0.10537008637751824  |\n",
            "+------------------------------+-----------------------+----------------------+\n"
          ]
        }
      ]
    },
    {
      "cell_type": "code",
      "source": [
        "# 5) Inference Exacte \n",
        "from pgmpy.inference import VariableElimination\n",
        "\n",
        "infer = VariableElimination(model)\n",
        "prob_bank_loan = infer.query(variables=[\"BankLoan\"])\n",
        "print(prob_bank_loan)\n"
      ],
      "metadata": {
        "colab": {
          "base_uri": "https://localhost:8080/"
        },
        "id": "xkGtOdPjvKeH",
        "outputId": "92c6a238-a9b8-41d9-fd75-da0cebd452a8"
      },
      "execution_count": null,
      "outputs": [
        {
          "output_type": "stream",
          "name": "stdout",
          "text": [
            "+--------------------+-----------------+\n",
            "| BankLoan           |   phi(BankLoan) |\n",
            "+====================+=================+\n",
            "| BankLoan(Positive) |          0.5480 |\n",
            "+--------------------+-----------------+\n",
            "| BankLoan(Negative) |          0.4520 |\n",
            "+--------------------+-----------------+\n"
          ]
        },
        {
          "output_type": "stream",
          "name": "stderr",
          "text": [
            "/usr/local/lib/python3.9/dist-packages/pgmpy/models/BayesianModel.py:8: FutureWarning: BayesianModel has been renamed to BayesianNetwork. Please use BayesianNetwork class, BayesianModel will be removed in future.\n",
            "  warnings.warn(\n"
          ]
        }
      ]
    },
    {
      "cell_type": "code",
      "source": [
        "# Calculer la probabilité conditionnelle P(BankLoan|Income = Low, Age = Between16and25, PaymentHistory = Excellent, Assets = Low)\n",
        "prop = infer.query(variables=['BankLoan'], evidence={'Income': 'Low', 'Age': 'Between16and25',\n",
        "                                             'PaymentHistory': 'Excellent', 'Assets': 'Low'})\n",
        "print(prop)\n"
      ],
      "metadata": {
        "colab": {
          "base_uri": "https://localhost:8080/"
        },
        "id": "M-OoDdwawJuz",
        "outputId": "4b2d5884-bc2e-4c13-9d62-83587982f5c1"
      },
      "execution_count": null,
      "outputs": [
        {
          "output_type": "stream",
          "name": "stdout",
          "text": [
            "+--------------------+-----------------+\n",
            "| BankLoan           |   phi(BankLoan) |\n",
            "+====================+=================+\n",
            "| BankLoan(Positive) |          0.5514 |\n",
            "+--------------------+-----------------+\n",
            "| BankLoan(Negative) |          0.4486 |\n",
            "+--------------------+-----------------+\n"
          ]
        },
        {
          "output_type": "stream",
          "name": "stderr",
          "text": [
            "/usr/local/lib/python3.9/dist-packages/pgmpy/models/BayesianModel.py:8: FutureWarning: BayesianModel has been renamed to BayesianNetwork. Please use BayesianNetwork class, BayesianModel will be removed in future.\n",
            "  warnings.warn(\n"
          ]
        }
      ]
    },
    {
      "cell_type": "code",
      "source": [
        "# Inférence par échantillonnage en avant\n",
        "\n",
        "from pgmpy.inference import ApproxInference\n",
        "\n",
        "infer2 = ApproxInference(model)\n",
        "prop2 = infer2.query(variables=[\"BankLoan\"], n_samples=100, joint=True)\n",
        "print(prop2)"
      ],
      "metadata": {
        "colab": {
          "base_uri": "https://localhost:8080/",
          "height": 178,
          "referenced_widgets": [
            "16ac31c940af442d85cec3f511deb2f3",
            "6bca5a998f5743fea80a1bc200469c5e",
            "2ee16b0aa4964f79940b2af94da11988",
            "d4d20ea7d3094ff2b78ae0cf24e13507",
            "9d5d594820214d578a2ab98a091b1dc0",
            "79f8e1817be34f43bb57e3aa83807b12",
            "b32ddd24fb2f4d40aded9b97dbe108b6",
            "c0327776e2f645a3bbf13815654461d5",
            "d122a902b8f14ccbb515a8af0820d243",
            "272ac242fa754d8faff8940846a238b8",
            "eea0a4912a3443d49a91db3d33a0a4b2"
          ]
        },
        "id": "QtRaIdLAwdvs",
        "outputId": "dbaa38af-524e-4e32-ef0f-0d33cae74c2d"
      },
      "execution_count": null,
      "outputs": [
        {
          "output_type": "display_data",
          "data": {
            "text/plain": [
              "  0%|          | 0/8 [00:00<?, ?it/s]"
            ],
            "application/vnd.jupyter.widget-view+json": {
              "version_major": 2,
              "version_minor": 0,
              "model_id": "16ac31c940af442d85cec3f511deb2f3"
            }
          },
          "metadata": {}
        },
        {
          "output_type": "stream",
          "name": "stdout",
          "text": [
            "+--------------------+-----------------+\n",
            "| BankLoan           |   phi(BankLoan) |\n",
            "+====================+=================+\n",
            "| BankLoan(Negative) |          0.5700 |\n",
            "+--------------------+-----------------+\n",
            "| BankLoan(Positive) |          0.4300 |\n",
            "+--------------------+-----------------+\n"
          ]
        }
      ]
    }
  ]
}